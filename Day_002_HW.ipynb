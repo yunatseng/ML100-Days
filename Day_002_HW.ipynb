{
  "cells": [
    {
      "cell_type": "markdown",
      "metadata": {
        "id": "view-in-github",
        "colab_type": "text"
      },
      "source": [
        "<a href=\"https://colab.research.google.com/github/yunatseng/ML100-Days/blob/main/Day_002_HW.ipynb\" target=\"_parent\"><img src=\"https://colab.research.google.com/assets/colab-badge.svg\" alt=\"Open In Colab\"/></a>"
      ]
    },
    {
      "cell_type": "markdown",
      "metadata": {
        "id": "LIdgCjoaqNLn"
      },
      "source": [
        "## [作業目標]\n",
        "了解機器學習適合應用的領域與範疇。"
      ]
    },
    {
      "cell_type": "markdown",
      "metadata": {
        "id": "TlqpVaxZqNLp"
      },
      "source": [
        "## [作業重點]\n",
        "透過瞭解機器學習的運作方式，找出非常適用機器學習應用的領域及其原因"
      ]
    },
    {
      "cell_type": "markdown",
      "metadata": {
        "id": "b3sgl9c6qNLp"
      },
      "source": [
        "## 作業\n",
        "請找出一個你認為機器學習可以發光發熱的領域並闡述原因? "
      ]
    },
    {
      "cell_type": "markdown",
      "metadata": {
        "id": "XR6saoHcqNLq"
      },
      "source": [
        "## 領域:電玩比賽\n",
        "### 原因:\n",
        "1. 可以從獲勝隊伍的 VOD ( Video On Demand ) 比賽回放影片，去搜集所有可用於分析用的數據。\n",
        "2. 例如我們可以搜集獲勝隊伍的插眼數、買眼數、插眼位置、跑線次數、吃野怪時間/次數、裝備購買時間、天賦搭配...等等各項指標，去分析獲勝隊伍是否有哪些贏得比賽的 key point。"
      ]
    }
  ],
  "metadata": {
    "kernelspec": {
      "display_name": "Python 3",
      "language": "python",
      "name": "python3"
    },
    "language_info": {
      "codemirror_mode": {
        "name": "ipython",
        "version": 3
      },
      "file_extension": ".py",
      "mimetype": "text/x-python",
      "name": "python",
      "nbconvert_exporter": "python",
      "pygments_lexer": "ipython3",
      "version": "3.9.12"
    },
    "colab": {
      "provenance": [],
      "include_colab_link": true
    }
  },
  "nbformat": 4,
  "nbformat_minor": 0
}