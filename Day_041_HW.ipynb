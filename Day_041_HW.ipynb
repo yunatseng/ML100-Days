{
  "cells": [
    {
      "cell_type": "markdown",
      "metadata": {
        "id": "view-in-github",
        "colab_type": "text"
      },
      "source": [
        "<a href=\"https://colab.research.google.com/github/yunatseng/ML100-Days/blob/main/Day_041_HW.ipynb\" target=\"_parent\"><img src=\"https://colab.research.google.com/assets/colab-badge.svg\" alt=\"Open In Colab\"/></a>"
      ]
    },
    {
      "cell_type": "markdown",
      "metadata": {
        "id": "bdmWoeERC3fi"
      },
      "source": [
        "## 作業\n",
        "\n",
        "\n",
        "\n",
        "閱讀以下兩篇文獻，了解決策樹原理，並試著回答後續的問題\n",
        "- [決策樹 (Decision Tree) - 中文](https://medium.com/@yehjames/%E8%B3%87%E6%96%99%E5%88%86%E6%9E%90-%E6%A9%9F%E5%99%A8%E5%AD%B8%E7%BF%92-%E7%AC%AC3-5%E8%AC%9B-%E6%B1%BA%E7%AD%96%E6%A8%B9-decision-tree-%E4%BB%A5%E5%8F%8A%E9%9A%A8%E6%A9%9F%E6%A3%AE%E6%9E%97-random-forest-%E4%BB%8B%E7%B4%B9-7079b0ddfbda)\n",
        "- [how decision tree works - 英文](http://dataaspirant.com/2017/01/30/how-decision-tree-algorithm-works/)\n",
        "\n",
        "1. 在分類問題中，若沒有任何限制，決策樹有辦法在訓練時將 training loss 完全降成 0 嗎？\n",
        "2. 決策樹只能用在分類問題嗎？還是可以用來解決回歸問題？\n"
      ]
    },
    {
      "cell_type": "markdown",
      "metadata": {
        "id": "g3GcyDdXC3fl"
      },
      "source": [
        "1. 在分類問題中，若沒有任何限制，決策樹可以在訓練時將 training loss 完全降成 0。因為決策樹可以通過建立足夠深的樹，將每個訓練樣本都切分到葉子節點上，從而實現對每個訓練樣本的完美匹配。但這樣做容易導致過擬合，因為決策樹將會非常複雜，對新的測試樣本的泛化能力很差。因此，通常需要進行限制和正則化，以避免過擬合，提高模型的泛化能力。"
      ]
    },
    {
      "cell_type": "markdown",
      "metadata": {
        "id": "d-9T5du2C3fl"
      },
      "source": [
        "2. 決策樹（Decision Tree）不僅可以應用於分類問題，還可以應用於回歸問題。在分類問題中，決策樹的目標是將不同類別的樣本區分開；而在回歸問題中，決策樹的目標是預測連續型的目標變量。建立回歸樹的過程大致可以分為兩步：\n",
        "\n",
        "- 將預測變量空間（X 1 , X 2 , X 3 , ⋯ , X p ）的可能取值構成的集合分割成 J 個互不重疊的區域 { R 1 , R 2 , R 3 , ⋯ , R J }\n",
        "\n",
        "\n",
        "- 對落入區域 R J 的每個觀測值作同樣的預測，預測值等於 R J 上訓練集的各個樣本取值的算術平均數。\n",
        "\n",
        "\n"
      ]
    }
  ],
  "metadata": {
    "kernelspec": {
      "display_name": "Python 3",
      "language": "python",
      "name": "python3"
    },
    "language_info": {
      "codemirror_mode": {
        "name": "ipython",
        "version": 3
      },
      "file_extension": ".py",
      "mimetype": "text/x-python",
      "name": "python",
      "nbconvert_exporter": "python",
      "pygments_lexer": "ipython3",
      "version": "3.6.3"
    },
    "colab": {
      "provenance": [],
      "include_colab_link": true
    }
  },
  "nbformat": 4,
  "nbformat_minor": 0
}